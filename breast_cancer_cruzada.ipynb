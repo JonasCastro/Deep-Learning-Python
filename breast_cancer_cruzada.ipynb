{
  "nbformat": 4,
  "nbformat_minor": 0,
  "metadata": {
    "colab": {
      "name": "breast_cancer_cruzada.ipynb",
      "provenance": [],
      "collapsed_sections": [],
      "authorship_tag": "ABX9TyPs7H++bReGPFdYFXEWMCYu"
    },
    "kernelspec": {
      "name": "python3",
      "display_name": "Python 3"
    },
    "language_info": {
      "name": "python"
    }
  },
  "cells": [
    {
      "cell_type": "markdown",
      "metadata": {
        "id": "JZjE0puipqXW"
      },
      "source": [
        "# **K-fold cross validation** | Validação cruzada"
      ]
    },
    {
      "cell_type": "markdown",
      "metadata": {
        "id": "l8osZPSmsdf7"
      },
      "source": [
        ""
      ]
    },
    {
      "cell_type": "code",
      "metadata": {
        "colab": {
          "base_uri": "https://localhost:8080/"
        },
        "id": "XjZh5H80pm5x",
        "outputId": "fdb371d3-0196-49af-a9ae-2c6781325e37"
      },
      "source": [
        "import pandas as pd\n",
        "import keras\n",
        "from keras.models import Sequential\n",
        "from keras.layers import Dense, Dropout\n",
        "from keras.wrappers.scikit_learn import KerasClassifier\n",
        "from sklearn.model_selection import cross_val_score \n",
        "\n",
        "previsores = pd.read_csv('entradas_breast.csv')\n",
        "classe = pd.read_csv('saidas_breast.csv')\n",
        "\n",
        "def criarRede():\n",
        "    classificador = Sequential()\n",
        "    classificador.add(Dense(units = 16, activation = 'relu', \n",
        "                            kernel_initializer = 'random_uniform', input_dim = 30))\n",
        "    classificador.add(Dropout(0.2)) # Evita overfitting \n",
        "    classificador.add(Dense(units = 16, activation = 'relu', \n",
        "                            kernel_initializer = 'random_uniform'))\n",
        "    classificador.add(Dropout(0.2)) # Evita overfitting \n",
        "    classificador.add(Dense(units = 1, activation = 'sigmoid'))\n",
        "    otimizador = keras.optimizers.Adam(learning_rate = 0.001, decay = 0.0001, clipvalue = 0.5)\n",
        "    classificador.compile(optimizer = otimizador, loss = 'binary_crossentropy', metrics= ['binary_accuracy'])\n",
        "    return classificador\n",
        "\n",
        "classificador = KerasClassifier(build_fn= criarRede,\n",
        "                                epochs = 100,\n",
        "                                batch_size = 10)\n",
        "\n",
        "resultados = cross_val_score(estimator = classificador,\n",
        "                             X = previsores, y = classe,\n",
        "                             cv = 10,\n",
        "                             scoring = 'accuracy')\n",
        "\n",
        "media = resultados.mean()\n",
        "# se maior é maior a tendencia de overfitting, a rede se adapta muito aos dados\n",
        "desvio = resultados.std()\n",
        "\n",
        "\n",
        "print(\"resultados:\", resultados) \n",
        "print(\"Media:\", media) \n",
        "print(\"Desvio P:\", desvio) \n"
      ],
      "execution_count": null,
      "outputs": [
        {
          "output_type": "stream",
          "text": [
            "resultados: [0.66666667 0.9122807  0.92982456 0.78947368 0.84210526 0.92982456\n",
            " 0.9122807  0.92982456 0.84210526 0.92857143]\n",
            "Media: 0.8682957393483708\n",
            "Desvio P: 0.08191396815581295\n"
          ],
          "name": "stdout"
        }
      ]
    }
  ]
}
