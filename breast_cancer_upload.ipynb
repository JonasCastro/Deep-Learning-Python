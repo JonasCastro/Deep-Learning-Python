{
  "nbformat": 4,
  "nbformat_minor": 0,
  "metadata": {
    "colab": {
      "name": "breast_cancer_upload.ipynb",
      "provenance": [],
      "authorship_tag": "ABX9TyMmFaqPenGMiEJ+PPz5Lnyc"
    },
    "kernelspec": {
      "name": "python3",
      "display_name": "Python 3"
    },
    "language_info": {
      "name": "python"
    }
  },
  "cells": [
    {
      "cell_type": "markdown",
      "metadata": {
        "id": "qJ4wtStL3F4Q"
      },
      "source": [
        "# **Carregar rede neural**"
      ]
    },
    {
      "cell_type": "code",
      "metadata": {
        "colab": {
          "base_uri": "https://localhost:8080/"
        },
        "id": "E1ypOI3725XK",
        "outputId": "238ec4b6-fd7a-4f5a-b950-ae50a0255049"
      },
      "source": [
        "import numpy as np\n",
        "import pandas as pd\n",
        "from keras.models import model_from_json\n",
        "\n",
        "arquivo = open('classificador_breast.json', 'r')\n",
        "estrutura_rede = arquivo.read()\n",
        "arquivo.close()\n",
        "\n",
        "classificador = model_from_json(estrutura_rede)\n",
        "classificador.load_weights('classificador_breast.h5')\n",
        "\n",
        "novo = np.array([[15.80, 8.34, 118, 900, 0.10, 0.26, 0.08, 0.134, 0.178,\n",
        "                  0.20, 0.05, 1098, 0.87, 4500, 145.2, 0.005, 0.04, 0.05, 0.015,\n",
        "                  0.03, 0.007, 23.15, 16.64, 178.5, 2018, 0.14, 0.185,\n",
        "                  0.84, 158, 0.363]])\n",
        "previsao = classificador.predict(novo)\n",
        "print(previsao)\n",
        "previsao = (previsao > 0.5)\n",
        "print(previsao)\n",
        "\n",
        "previsores = pd.read_csv('entradas_breast.csv')\n",
        "classe = pd.read_csv('saidas_breast.csv')\n",
        "classificador.compile(loss='binary_crossentropy', optimizer='adam', metrics=['binary_accuracy'])\n",
        "resultado = classificador.evaluate(previsores, classe)\n",
        "print(resultado)"
      ],
      "execution_count": null,
      "outputs": [
        {
          "output_type": "stream",
          "text": [
            "[[0.9999996]]\n",
            "[[ True]]\n",
            "18/18 [==============================] - 1s 2ms/step - loss: 0.1888 - binary_accuracy: 0.9180\n",
            "[0.17663715779781342, 0.9367311000823975]\n"
          ],
          "name": "stdout"
        }
      ]
    }
  ]
}