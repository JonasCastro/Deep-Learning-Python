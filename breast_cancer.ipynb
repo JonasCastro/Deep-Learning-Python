{
  "nbformat": 4,
  "nbformat_minor": 0,
  "metadata": {
    "colab": {
      "name": "breast_cancer.ipynb",
      "provenance": [],
      "collapsed_sections": [],
      "authorship_tag": "ABX9TyPvFmDlVwOlqbb7y6hRJuOy"
    },
    "kernelspec": {
      "name": "python3",
      "display_name": "Python 3"
    },
    "language_info": {
      "name": "python"
    }
  },
  "cells": [
    {
      "cell_type": "code",
      "metadata": {
        "id": "KTXrgW63gM4o"
      },
      "source": [
        "import pandas as pd\n",
        "previsores = pd.read_csv('entradas_breast.csv')\n",
        "classe = pd.read_csv('saidas_breast.csv')\n",
        "\n",
        "from sklearn.model_selection import train_test_split\n",
        "previsores_treinamento, previsores_teste, classe_treinamento, classe_teste = train_test_split(previsores, classe, test_size=0.25)\n",
        "\n",
        "import keras \n",
        "from keras.models import Sequential\n",
        "from keras.layers import Dense\n",
        "\n"
      ],
      "execution_count": null,
      "outputs": []
    },
    {
      "cell_type": "code",
      "metadata": {
        "colab": {
          "base_uri": "https://localhost:8080/"
        },
        "id": "8KfHyAQKmrs9",
        "outputId": "aeea0589-2742-435d-87b4-ebaccf51ac7a"
      },
      "source": [
        "previsores_treinamento.shape\n"
      ],
      "execution_count": null,
      "outputs": [
        {
          "output_type": "execute_result",
          "data": {
            "text/plain": [
              "(426, 30)"
            ]
          },
          "metadata": {
            "tags": []
          },
          "execution_count": 2
        }
      ]
    },
    {
      "cell_type": "code",
      "metadata": {
        "colab": {
          "base_uri": "https://localhost:8080/"
        },
        "id": "rWSYS30DnOb0",
        "outputId": "4f029b52-9d59-433c-a747-30c253e300ec"
      },
      "source": [
        "classe_treinamento.shape"
      ],
      "execution_count": null,
      "outputs": [
        {
          "output_type": "execute_result",
          "data": {
            "text/plain": [
              "(426, 1)"
            ]
          },
          "metadata": {
            "tags": []
          },
          "execution_count": 3
        }
      ]
    },
    {
      "cell_type": "code",
      "metadata": {
        "id": "hg72XG3Yks0J"
      },
      "source": [
        "\n",
        "\n",
        "classificador = Sequential()\n",
        "\n",
        "#PRIMEIRA CAMADA OCULTA\n",
        "# utils = 16 é o numero de neuronios da camada oculta: (numero de entradas:30 + numero de neuronios na camada de saida:1 )/2 = 16 \n",
        "# kernel_initializar = 'random_uniform' inicializador dos pesos\n",
        "# input_dim = 30 add quantos elementos existe na camada de entrada ( Nesse caso temos 30 atributos previsores ). Cadastrado apenas para a primeira camada oculta\n",
        "classificador.add(Dense(units = 16, activation = 'relu', kernel_initializer = 'random_uniform', input_dim = 30))\n",
        "classificador.add(Dense(units = 16, activation = 'relu', kernel_initializer = 'random_uniform'))\n",
        "\n",
        "#CAMADA SAIDA\n",
        "classificador.add(Dense(units = 1, activation = 'sigmoid'))\n",
        "\n",
        "# COMPILAR\n",
        "# optimizer='adam' descida do gradiente; função para o ajuste dos pesos\n",
        "# loss = 'binary_crossentropy' maneira que vai fazer o tratamento ou calculo do erro\n",
        "# classificador.compile(optimizer='adam', loss = 'binary_crossentropy', metrics= ['binary_accuracy'])\n",
        "\n",
        "# Learningrate = taxa de aprendizagem\n",
        "# decay = incremento\n",
        "# clipvalue = valor max e min\n",
        "otimizador = keras.optimizers.Adam(lr = 0.001, decay = 0.0001, clipvalue = 0.5)\n",
        "classificador.compile(optimizer = otimizador, loss = 'binary_crossentropy', metrics= ['binary_accuracy'])\n",
        "\n",
        "#TREINAMENTO\n",
        "# batch_size = 10 calcula o erro para 10 registros e atualiza os pesos\n",
        "# epochs = 100 quantas vezes vai ser feito o ajuste dos pesos\n",
        "classificador.fit(previsores_treinamento, classe_treinamento,\n",
        "                  batch_size = 10, epochs = 100)\n",
        "\n",
        "\n",
        "# Visualizar pesos\n",
        "pesos0 = classificador.layers[0].get_weights()\n",
        "print(pesos0)\n",
        "print(len(pesos0))\n",
        "pesos1 = classificador.layers[1].get_weights()\n",
        "pesos2 = classificador.layers[2].get_weights()\n",
        "\n",
        "\n"
      ],
      "execution_count": null,
      "outputs": []
    },
    {
      "cell_type": "code",
      "metadata": {
        "colab": {
          "base_uri": "https://localhost:8080/"
        },
        "id": "eBSCcENip_ej",
        "outputId": "5f588d44-2119-4c4e-b60c-526e721962e5"
      },
      "source": [
        "#PREVISÃO\n",
        "\n",
        "# -----sklearn-----\n",
        "previsoes = classificador.predict(previsores_teste) # retorna as probabilidades\n",
        "previsoes = (previsoes > 0.5 )\n",
        "from sklearn.metrics import confusion_matrix, accuracy_score\n",
        "\n",
        "precisao = accuracy_score(classe_teste, previsoes)\n",
        "print(\"\\n\\n-----sklearn-----\\n\")\n",
        "print(\"Precisão:\",precisao,\"% de acerto com a base de dados de teste\")\n",
        "\n",
        "matriz = confusion_matrix(classe_teste, previsoes)\n",
        "print(\"Matriz de confusão:\")\n",
        "print(pd.DataFrame(matriz))\n",
        "\n",
        "\n",
        "# -----keras-----\n",
        "\n",
        "print(\"\\n\\n-----keras-----\\n\") \n",
        "print(\"\")\n",
        "resultKeras = classificador.evaluate(previsores_teste, classe_teste)\n",
        "print(\"Precisão:\", resultKeras[1])\n",
        "print(\"Valor da função de erro:\", resultKeras[0])\n",
        "\n"
      ],
      "execution_count": null,
      "outputs": [
        {
          "output_type": "stream",
          "text": [
            "\n",
            "\n",
            "-----sklearn-----\n",
            "\n",
            "Precisão: 0.8391608391608392 % de acerto com a base de dados de teste\n",
            "Matriz de confusão:\n",
            "    0   1\n",
            "0  33  21\n",
            "1   2  87\n",
            "\n",
            "\n",
            "-----keras-----\n",
            "\n",
            "\n",
            "5/5 [==============================] - 1s 3ms/step - loss: 1.2358 - binary_accuracy: 0.8392\n",
            "Precisão: 0.8391608595848083\n",
            "Valor da função de erro: 1.2357935905456543\n"
          ],
          "name": "stdout"
        }
      ]
    }
  ]
}